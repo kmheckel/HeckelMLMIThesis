{
 "cells": [
  {
   "cell_type": "code",
   "execution_count": 4,
   "metadata": {},
   "outputs": [],
   "source": [
    "import json\n",
    "\n",
    "with open(\"./msf_metadata.json\", 'r') as file:\n",
    "    data = json.load(file)"
   ]
  },
  {
   "cell_type": "code",
   "execution_count": 5,
   "metadata": {},
   "outputs": [],
   "source": [
    "filtered = []\n",
    "\n",
    "for entry in data:\n",
    "    if \"exploit\" in entry[\"path\"]:\n",
    "        new_entry = {\"path\":entry[\"path\"][9:-3].replace(\"exploits\", \"exploit\"), \"text\":entry[\"description\"]}\n",
    "        filtered.append(new_entry)\n",
    "\n",
    "# need to filter duplicates via a set."
   ]
  },
  {
   "cell_type": "code",
   "execution_count": 6,
   "metadata": {},
   "outputs": [],
   "source": [
    "def filter_unique_keys(list_of_dicts):\n",
    "    unique_keys = {}\n",
    "    filtered_list = []\n",
    "\n",
    "    for d in list_of_dicts:\n",
    "        key = d[\"path\"]\n",
    "        if key not in unique_keys:\n",
    "            unique_keys[key] = True\n",
    "            filtered_list.append(d)\n",
    "\n",
    "    return filtered_list\n",
    "\n",
    "# Filter the list\n",
    "filtered = filter_unique_keys(filtered)"
   ]
  },
  {
   "cell_type": "code",
   "execution_count": 7,
   "metadata": {},
   "outputs": [],
   "source": [
    "with open(\"msf_exploits.json\", \"w\") as f:\n",
    "    json.dump(filtered, f)"
   ]
  }
 ],
 "metadata": {
  "kernelspec": {
   "display_name": "Python 3",
   "language": "python",
   "name": "python3"
  },
  "language_info": {
   "codemirror_mode": {
    "name": "ipython",
    "version": 3
   },
   "file_extension": ".py",
   "mimetype": "text/x-python",
   "name": "python",
   "nbconvert_exporter": "python",
   "pygments_lexer": "ipython3",
   "version": "3.12.4"
  }
 },
 "nbformat": 4,
 "nbformat_minor": 2
}
